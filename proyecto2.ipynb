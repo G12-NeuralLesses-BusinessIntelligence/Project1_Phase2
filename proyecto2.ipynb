{
 "cells": [
  {
   "cell_type": "markdown",
   "metadata": {
    "id": "-sO0wl9JDVxI"
   },
   "source": [
    "# Proyecto #"
   ]
  },
  {
   "cell_type": "code",
   "execution_count": 67,
   "metadata": {},
   "outputs": [],
   "source": [
    "# Instalación de dependencias:\n",
    "#!pip install nltk"
   ]
  },
  {
   "cell_type": "markdown",
   "metadata": {
    "id": "wgvNr-yrbF27"
   },
   "source": [
    "# Entedimiento de los Datos #"
   ]
  },
  {
   "cell_type": "code",
   "execution_count": 68,
   "metadata": {
    "id": "PKy6FGN_DVxK"
   },
   "outputs": [],
   "source": [
    "import pandas as pd\n",
    "import matplotlib.pyplot as plt\n",
    "import numpy as np\n",
    "from os import replace\n",
    "import re\n",
    "from sklearn.model_selection import train_test_split\n",
    "import nltk\n",
    "from nltk.corpus import stopwords\n",
    "from nltk.tokenize import TweetTokenizer\n",
    "from sklearn.feature_extraction.text import CountVectorizer, TfidfVectorizer\n",
    "from sklearn.ensemble import RandomForestClassifier\n",
    "from sklearn.svm import LinearSVC\n",
    "from sklearn.metrics import ConfusionMatrixDisplay, precision_score, recall_score, f1_score, accuracy_score\n",
    "from sklearn.naive_bayes import GaussianNB\n",
    "from sklearn.neighbors import NearestCentroid\n",
    "from sklearn.preprocessing import StandardScaler\n",
    "from sklearn.pipeline import Pipeline\n",
    "from sklearn.compose import ColumnTransformer\n",
    "from joblib import load,  dump\n",
    "#import dill  # the code below will fail without this line\n",
    "import pickle\n",
    "from tfidf import Tfidf\n",
    "from PredictionModel import tokenizer"
   ]
  },
  {
   "cell_type": "code",
   "execution_count": 69,
   "metadata": {
    "id": "_kStETg6DVxL"
   },
   "outputs": [],
   "source": [
    "df = pd.read_csv('C:/Users/Asus/OneDrive - Universidad de los Andes/OCTAVO SEMESTRE/ISIS - BUSINESS INTELLIGENCE/Proyecto/DatosSuicidio/SuicidiosProyecto.csv')\n",
    "df.drop([\"Unnamed: 0\"], axis = 1, inplace=True)"
   ]
  },
  {
   "cell_type": "markdown",
   "metadata": {
    "id": "MywliEK8btXb"
   },
   "source": [
    "# Preparación de los datos"
   ]
  },
  {
   "cell_type": "code",
   "execution_count": 70,
   "metadata": {
    "colab": {
     "base_uri": "https://localhost:8080/",
     "height": 520
    },
    "id": "pENJbgxtDVxL",
    "outputId": "8645a244-2c07-47b7-c59f-64d9985197d5"
   },
   "outputs": [
    {
     "data": {
      "text/html": [
       "<div>\n",
       "<style scoped>\n",
       "    .dataframe tbody tr th:only-of-type {\n",
       "        vertical-align: middle;\n",
       "    }\n",
       "\n",
       "    .dataframe tbody tr th {\n",
       "        vertical-align: top;\n",
       "    }\n",
       "\n",
       "    .dataframe thead th {\n",
       "        text-align: right;\n",
       "    }\n",
       "</style>\n",
       "<table border=\"1\" class=\"dataframe\">\n",
       "  <thead>\n",
       "    <tr style=\"text-align: right;\">\n",
       "      <th></th>\n",
       "      <th>text</th>\n",
       "      <th>class</th>\n",
       "    </tr>\n",
       "  </thead>\n",
       "  <tbody>\n",
       "    <tr>\n",
       "      <th>0</th>\n",
       "      <td>i want to destroy myselffor once everything wa...</td>\n",
       "      <td>suicide</td>\n",
       "    </tr>\n",
       "    <tr>\n",
       "      <th>1</th>\n",
       "      <td>I kinda got behind schedule with learning for ...</td>\n",
       "      <td>non-suicide</td>\n",
       "    </tr>\n",
       "    <tr>\n",
       "      <th>2</th>\n",
       "      <td>I'm just not sure anymoreFirst and foremost: I...</td>\n",
       "      <td>suicide</td>\n",
       "    </tr>\n",
       "    <tr>\n",
       "      <th>3</th>\n",
       "      <td>please give me a reason to liveThats too much ...</td>\n",
       "      <td>suicide</td>\n",
       "    </tr>\n",
       "    <tr>\n",
       "      <th>4</th>\n",
       "      <td>27f struggling to find meaning moving forwardI...</td>\n",
       "      <td>suicide</td>\n",
       "    </tr>\n",
       "    <tr>\n",
       "      <th>5</th>\n",
       "      <td>Let’s get this bread 😎 Anyone know any good ba...</td>\n",
       "      <td>non-suicide</td>\n",
       "    </tr>\n",
       "    <tr>\n",
       "      <th>6</th>\n",
       "      <td>Day 126 of posting random \"fun\" facts everyday...</td>\n",
       "      <td>non-suicide</td>\n",
       "    </tr>\n",
       "    <tr>\n",
       "      <th>7</th>\n",
       "      <td>Little brother is self mutilating. Please help...</td>\n",
       "      <td>suicide</td>\n",
       "    </tr>\n",
       "    <tr>\n",
       "      <th>8</th>\n",
       "      <td>Why do women always go in groups to their wash...</td>\n",
       "      <td>non-suicide</td>\n",
       "    </tr>\n",
       "    <tr>\n",
       "      <th>9</th>\n",
       "      <td>Did you guys know that there's no school for g...</td>\n",
       "      <td>non-suicide</td>\n",
       "    </tr>\n",
       "    <tr>\n",
       "      <th>10</th>\n",
       "      <td>Was about to post something... but forgot it w...</td>\n",
       "      <td>non-suicide</td>\n",
       "    </tr>\n",
       "    <tr>\n",
       "      <th>11</th>\n",
       "      <td>Ah shite I said SUCK MY CLIT instead of SUCK M...</td>\n",
       "      <td>non-suicide</td>\n",
       "    </tr>\n",
       "    <tr>\n",
       "      <th>12</th>\n",
       "      <td>if you hate coffee but need the caffeine try t...</td>\n",
       "      <td>non-suicide</td>\n",
       "    </tr>\n",
       "    <tr>\n",
       "      <th>13</th>\n",
       "      <td>General Kenobi, Hello There First one to comme...</td>\n",
       "      <td>non-suicide</td>\n",
       "    </tr>\n",
       "    <tr>\n",
       "      <th>14</th>\n",
       "      <td>Passively SuicidalI feel suicidal all the time...</td>\n",
       "      <td>suicide</td>\n",
       "    </tr>\n",
       "  </tbody>\n",
       "</table>\n",
       "</div>"
      ],
      "text/plain": [
       "                                                 text        class\n",
       "0   i want to destroy myselffor once everything wa...      suicide\n",
       "1   I kinda got behind schedule with learning for ...  non-suicide\n",
       "2   I'm just not sure anymoreFirst and foremost: I...      suicide\n",
       "3   please give me a reason to liveThats too much ...      suicide\n",
       "4   27f struggling to find meaning moving forwardI...      suicide\n",
       "5   Let’s get this bread 😎 Anyone know any good ba...  non-suicide\n",
       "6   Day 126 of posting random \"fun\" facts everyday...  non-suicide\n",
       "7   Little brother is self mutilating. Please help...      suicide\n",
       "8   Why do women always go in groups to their wash...  non-suicide\n",
       "9   Did you guys know that there's no school for g...  non-suicide\n",
       "10  Was about to post something... but forgot it w...  non-suicide\n",
       "11  Ah shite I said SUCK MY CLIT instead of SUCK M...  non-suicide\n",
       "12  if you hate coffee but need the caffeine try t...  non-suicide\n",
       "13  General Kenobi, Hello There First one to comme...  non-suicide\n",
       "14  Passively SuicidalI feel suicidal all the time...      suicide"
      ]
     },
     "execution_count": 70,
     "metadata": {},
     "output_type": "execute_result"
    }
   ],
   "source": [
    "df.head(15)"
   ]
  },
  {
   "cell_type": "code",
   "execution_count": 71,
   "metadata": {
    "colab": {
     "base_uri": "https://localhost:8080/"
    },
    "id": "D16xNaQqDVxM",
    "outputId": "7dc3554d-4ed9-4b8c-839f-dc5b790ec132"
   },
   "outputs": [
    {
     "name": "stderr",
     "output_type": "stream",
     "text": [
      "[nltk_data] Downloading package stopwords to\n",
      "[nltk_data]     C:\\Users\\Asus\\AppData\\Roaming\\nltk_data...\n",
      "[nltk_data]   Package stopwords is already up-to-date!\n"
     ]
    }
   ],
   "source": [
    "nltk.download('stopwords')\n",
    "stop_words = set(stopwords.words('english'))"
   ]
  },
  {
   "cell_type": "markdown",
   "metadata": {
    "id": "A07hMPDrDVxM"
   },
   "source": [
    "def tokenizer(text):\n",
    "    tt = TweetTokenizer()\n",
    "    return tt.tokenize(text)"
   ]
  },
  {
   "cell_type": "code",
   "execution_count": 72,
   "metadata": {
    "id": "yJbNfXjSDVxN"
   },
   "outputs": [],
   "source": [
    "def text(text):\n",
    "    if('suicide'==text):\n",
    "        return 1\n",
    "    if('non-suicide'==text):\n",
    "        return 0\n",
    "    return None\n",
    "df['class'] = df['class'].apply(text)\n"
   ]
  },
  {
   "cell_type": "code",
   "execution_count": 73,
   "metadata": {
    "id": "CcxFt6I-DVxN"
   },
   "outputs": [],
   "source": [
    "X_train, X_test, y_train, y_test = train_test_split(df['text'], df['class'], test_size = 0.2, random_state = 1)"
   ]
  },
  {
   "cell_type": "markdown",
   "metadata": {
    "id": "jNnuaGhbkb1w"
   },
   "source": [
    "## TF-IDF"
   ]
  },
  {
   "cell_type": "markdown",
   "metadata": {
    "id": "cYiwFgYVLHa9"
   },
   "source": [
    "### Pipeline con TF-IDF y Algoritmo-LinearSVC"
   ]
  },
  {
   "cell_type": "code",
   "execution_count": 74,
   "metadata": {},
   "outputs": [
    {
     "data": {
      "text/plain": [
       "['assets/text_classifier.joblib']"
      ]
     },
     "execution_count": 74,
     "metadata": {},
     "output_type": "execute_result"
    }
   ],
   "source": [
    "\n",
    "pipeline = Pipeline(\n",
    "    [  \n",
    "        ('tfidf', TfidfVectorizer(tokenizer = tokenizer, stop_words = stop_words, lowercase = True)),\n",
    "        ('model', LinearSVC(C=0.588, dual=True, loss='squared_hinge', max_iter=10000,\n",
    "          multi_class='ovr', penalty='l2', random_state=0, tol=0.00001,\n",
    "          verbose=0))\n",
    "    ]\n",
    ")\n",
    "\n",
    "X_tfidf_train_pipe = pipeline[\"tfidf\"].fit_transform(X_train)\n",
    "pipeline['model'].fit(X_tfidf_train_pipe, y_train)\n",
    "\n",
    "## Save the pipeline\n",
    "dump(pipeline, 'assets/text_classifier.joblib') "
   ]
  },
  {
   "cell_type": "markdown",
   "metadata": {},
   "source": [
    "### Prueba del pipeline"
   ]
  },
  {
   "cell_type": "code",
   "execution_count": 76,
   "metadata": {},
   "outputs": [
    {
     "data": {
      "text/plain": [
       "array([1, 1, 1, 0], dtype=int64)"
      ]
     },
     "execution_count": 76,
     "metadata": {},
     "output_type": "execute_result"
    }
   ],
   "source": [
    "pipeline_imported = load('assets/text_classifier.joblib')\n",
    "\n",
    "msg = \"I'm tired of everything. I want to die. I hate myself too much.\"\n",
    "msg2= \"I want to rest in piece, I can't still living this shit of life. I quit.\"\n",
    "msg3 = \"It ends tonight. I can't do it anymore. I quit.\"\n",
    "msg4 = \"Live is love. You don't have truth reasons to quit :D. Look for help my friend.\"\n",
    "lista_msgs= [msg,msg2,msg3,msg4]\n",
    "predicciones2 = pipeline_imported['model'].predict(pipeline_imported['tfidf'].transform(pd.Series(lista_msgs)))\n",
    "predicciones2\n"
   ]
  },
  {
   "cell_type": "code",
   "execution_count": 79,
   "metadata": {},
   "outputs": [],
   "source": [
    "\n",
    "X_tfidf_test = pipeline_imported['tfidf'].transform(X_test)\n",
    "y_train_tfidf_linear_predict = pipeline['model'].predict(X_tfidf_train_pipe)\n",
    "y_test_tfidf_linear_predict = pipeline['model'].predict(X_tfidf_test)"
   ]
  },
  {
   "cell_type": "markdown",
   "metadata": {
    "id": "GmYhvVCKb5I8"
   },
   "source": [
    "# Análisis de los resultados #"
   ]
  },
  {
   "cell_type": "markdown",
   "metadata": {
    "id": "kcgKbYo3MqH5"
   },
   "source": [
    "###  TF-IDF con Algoritmo-LinearSVC"
   ]
  },
  {
   "cell_type": "code",
   "execution_count": 77,
   "metadata": {
    "id": "gh1UrvI0NEUd"
   },
   "outputs": [
    {
     "data": {
      "text/plain": [
       "Index(['anhedonic', '500,000', 'eht', 'corona's', 'sleepyhead', 'dado',\n",
       "       'darin's', 'antoher', 'markers', 'kille', 'grail', 'pitre', 'contibe',\n",
       "       'anti-intellectualism', 'absorb', 'fossils', 'partialiy', 'gma',\n",
       "       'mosley', 'tccbww'],\n",
       "      dtype='object')"
      ]
     },
     "execution_count": 77,
     "metadata": {},
     "output_type": "execute_result"
    }
   ],
   "source": [
    "pd.Series(pipeline_imported['model'].coef_[0], index = pipeline_imported['tfidf'].vocabulary_.keys()).sort_values().tail(20).keys()"
   ]
  },
  {
   "cell_type": "code",
   "execution_count": null,
   "metadata": {
    "id": "JZhl0HqbNFK7"
   },
   "outputs": [],
   "source": [
    "y_train_tfidf_linear_predict = pipeline['model'].predict(X_tfidf_train_pipe)\n",
    "y_test_tfidf_linear_predict = pipeline['model'].predict(X_tfidf_test)"
   ]
  },
  {
   "cell_type": "markdown",
   "metadata": {
    "id": "RY7QAPRTNFn9"
   },
   "source": [
    "#### Metricas Train"
   ]
  },
  {
   "cell_type": "code",
   "execution_count": null,
   "metadata": {
    "id": "HkXty3vUNHgP"
   },
   "outputs": [
    {
     "name": "stdout",
     "output_type": "stream",
     "text": [
      "Accuracy: 97.0350%\n",
      "Precision: 96.5370%\n",
      "Recall: 96.7003%\n",
      "F1: 96.6186%\n"
     ]
    },
    {
     "data": {
      "text/plain": [
       "<sklearn.metrics._plot.confusion_matrix.ConfusionMatrixDisplay at 0x195332ccaf0>"
      ]
     },
     "execution_count": 48,
     "metadata": {},
     "output_type": "execute_result"
    },
    {
     "data": {
      "image/png": "[encoded data removed]",
      "text/plain": [
       "<Figure size 640x480 with 2 Axes>"
      ]
     },
     "metadata": {},
     "output_type": "display_data"
    }
   ],
   "source": [
    "print(f\"Accuracy: {accuracy_score(y_train, y_train_tfidf_linear_predict):.4%}\")\n",
    "print(f'Precision: {precision_score(y_train, y_train_tfidf_linear_predict):.4%}')\n",
    "print(f'Recall: {recall_score(y_train, y_train_tfidf_linear_predict):.4%}')\n",
    "print(f'F1: {f1_score(y_train, y_train_tfidf_linear_predict):.4%}')\n",
    "ConfusionMatrixDisplay.from_predictions(y_train, y_train_tfidf_linear_predict)"
   ]
  },
  {
   "cell_type": "markdown",
   "metadata": {
    "id": "tvWKzL-vNIXG"
   },
   "source": [
    "#### Metricas Test"
   ]
  },
  {
   "cell_type": "code",
   "execution_count": null,
   "metadata": {
    "id": "oq8MA5MTNJ0U"
   },
   "outputs": [
    {
     "name": "stdout",
     "output_type": "stream",
     "text": [
      "Accuracy: 94.5248%\n",
      "Precision: 94.5816%\n",
      "Recall: 92.6680%\n",
      "F1: 93.6150%\n"
     ]
    },
    {
     "data": {
      "text/plain": [
       "<sklearn.metrics._plot.confusion_matrix.ConfusionMatrixDisplay at 0x195332ccfa0>"
      ]
     },
     "execution_count": 49,
     "metadata": {},
     "output_type": "execute_result"
    },
    {
     "data": {
      "image/png": "[encoded data removed]",
      "text/plain": [
       "<Figure size 640x480 with 2 Axes>"
      ]
     },
     "metadata": {},
     "output_type": "display_data"
    }
   ],
   "source": [
    "print(f\"Accuracy: {accuracy_score(y_test, y_test_tfidf_linear_predict):.4%}\")\n",
    "print(f'Precision: {precision_score(y_test,y_test_tfidf_linear_predict):.4%}')\n",
    "print(f'Recall: {recall_score(y_test,y_test_tfidf_linear_predict):.4%}')\n",
    "print(f'F1: {f1_score(y_test, y_test_tfidf_linear_predict):.4%}')\n",
    "ConfusionMatrixDisplay.from_predictions(y_test, y_test_tfidf_linear_predict)"
   ]
  }
 ],
 "metadata": {
  "colab": {
   "collapsed_sections": [
    "UwTDomyBjg8y",
    "-T6yv5n2js4z"
   ],
   "provenance": []
  },
  "kernelspec": {
   "display_name": "Python 3.10.8 64-bit (microsoft store)",
   "language": "python",
   "name": "python3"
  },
  "language_info": {
   "codemirror_mode": {
    "name": "ipython",
    "version": 3
   },
   "file_extension": ".py",
   "mimetype": "text/x-python",
   "name": "python",
   "nbconvert_exporter": "python",
   "pygments_lexer": "ipython3",
   "version": "3.10.8"
  },
  "vscode": {
   "interpreter": {
    "hash": "66f804da07f0f556d77bc3269dc5bb19edf020422864031af2885e5ff55f9079"
   }
  }
 },
 "nbformat": 4,
 "nbformat_minor": 1
}
